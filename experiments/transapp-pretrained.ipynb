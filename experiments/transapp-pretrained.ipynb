{
  "nbformat": 4,
  "nbformat_minor": 0,
  "metadata": {
    "colab": {
      "provenance": [],
      "gpuType": "T4"
    },
    "kernelspec": {
      "name": "python3",
      "display_name": "Python 3"
    },
    "language_info": {
      "name": "python"
    },
    "accelerator": "GPU"
  },
  "cells": [
    {
      "cell_type": "code",
      "execution_count": null,
      "metadata": {
        "colab": {
          "base_uri": "https://localhost:8080/"
        },
        "id": "pxJQlTlb1VZv",
        "outputId": "f15d754e-a8c6-4cfd-a0a1-da2ff38f2dcf"
      },
      "outputs": [
        {
          "output_type": "stream",
          "name": "stdout",
          "text": [
            "Cloning into 'TransApp'...\n",
            "remote: Enumerating objects: 758, done.\u001b[K\n",
            "remote: Counting objects: 100% (346/346), done.\u001b[K\n",
            "remote: Compressing objects: 100% (184/184), done.\u001b[K\n",
            "remote: Total 758 (delta 157), reused 332 (delta 151), pack-reused 412 (from 1)\u001b[K\n",
            "Receiving objects: 100% (758/758), 506.05 MiB | 33.63 MiB/s, done.\n",
            "Resolving deltas: 100% (310/310), done.\n",
            "Updating files: 100% (146/146), done.\n"
          ]
        }
      ],
      "source": [
        "!git clone https://github.com/vanshdhar999/TransApp.git"
      ]
    },
    {
      "cell_type": "code",
      "source": [
        "# Change to the cloned repository directory\n",
        "import os\n",
        "import sys\n",
        "from pathlib import Path\n",
        "os.chdir('/content/TransApp')  # Replace with your actual repo name\n",
        "\n",
        "# Add the repo root to Python path\n",
        "root = Path(os.getcwd()).resolve()\n",
        "sys.path.append(str(root))"
      ],
      "metadata": {
        "id": "rlXagpGOIUZy"
      },
      "execution_count": null,
      "outputs": []
    },
    {
      "cell_type": "code",
      "source": [
        "!pip install torchinfo"
      ],
      "metadata": {
        "colab": {
          "base_uri": "https://localhost:8080/"
        },
        "id": "Sav4E6QqIi-0",
        "outputId": "d7cf6179-add9-4b51-f3ba-a2e3355d55d9"
      },
      "execution_count": null,
      "outputs": [
        {
          "output_type": "stream",
          "name": "stdout",
          "text": [
            "Collecting torchinfo\n",
            "  Downloading torchinfo-1.8.0-py3-none-any.whl.metadata (21 kB)\n",
            "Downloading torchinfo-1.8.0-py3-none-any.whl (23 kB)\n",
            "Installing collected packages: torchinfo\n",
            "Successfully installed torchinfo-1.8.0\n"
          ]
        }
      ]
    },
    {
      "cell_type": "code",
      "source": [
        "import os, sys\n",
        "import numpy as np\n",
        "import pandas as pd\n",
        "from pathlib import Path\n",
        "\n",
        "import torch\n",
        "import torch.nn as nn\n",
        "\n",
        "root = Path(os.getcwd()).resolve().parents[0]\n",
        "sys.path.append(str(root))\n",
        "from experiments.data_utils import *\n",
        "from src.TransAppModel.TransApp import *\n",
        "from src.AD_Framework.Framework import *\n",
        "from src.utils.losses import *\n",
        "from IPython.display import display, HTML\n",
        "display(HTML(\"<style>.container { width:80% !important; }</style>\"))\n",
        "\n",
        "from torch.utils.data import DataLoader, Dataset\n",
        "from torchinfo import summary"
      ],
      "metadata": {
        "id": "LEBuy9Gg1dcL",
        "colab": {
          "base_uri": "https://localhost:8080/",
          "height": 17
        },
        "outputId": "8b4dd4d5-40b8-4d72-9523-cdc7f0606345"
      },
      "execution_count": null,
      "outputs": [
        {
          "output_type": "display_data",
          "data": {
            "text/plain": [
              "<IPython.core.display.HTML object>"
            ],
            "text/html": [
              "<style>.container { width:80% !important; }</style>"
            ]
          },
          "metadata": {}
        }
      ]
    },
    {
      "cell_type": "code",
      "source": [
        "def get_model_inst(m, win, dim_model, mode=\"pretraining\", large_version=False, path_select_core=None):\n",
        "    \"\"\"\n",
        "    Description:\n",
        "        Get TransApp model instance\n",
        "\n",
        "    Parameters:\n",
        "        m: int - n channel of input time series\n",
        "        win: int - length of input subsequence (usefull for positional encoding, if any)\n",
        "        mode: str - 'pretraining' or 'classif' (type of head)\n",
        "        large_version: boolean - if true, use 5 encoder layers instead of 3\n",
        "        path_select_core: str - path to pretrained instance of TransApp\n",
        "    \"\"\"\n",
        "\n",
        "    TApp = TransApp(max_len=win, c_in=m,\n",
        "                    mode=mode,\n",
        "                    n_embed_blocks=1,\n",
        "                    encoding_type='noencoding',\n",
        "                    n_encoder_layers=5 if large_version else 3,\n",
        "                    kernel_size=5,\n",
        "                    d_model=dim_model, pffn_ratio=2, n_head=4,\n",
        "                    prenorm=True, norm=\"LayerNorm\",\n",
        "                    activation='gelu',\n",
        "                    store_att=False, attn_dp_rate=0.2, head_dp_rate=0., dp_rate=0.2,\n",
        "                    att_param={'attenc_mask_diag': True, 'attenc_mask_flag': False, 'learnable_scale_enc': False},\n",
        "                    c_reconstruct=1, apply_gap=True, nb_class=2)\n",
        "\n",
        "    if path_select_core is not None:\n",
        "        TApp.load_state_dict(torch.load(path_select_core)['model_state_dict'])\n",
        "\n",
        "    return TApp"
      ],
      "metadata": {
        "id": "j5N2y-NUIeVb"
      },
      "execution_count": null,
      "outputs": []
    },
    {
      "cell_type": "code",
      "source": [
        "m       = 1    # Number of channel of the input time series (i.e. consumption time series, hours encoded in sin/cos based , days encoded in sin/cos based)\n",
        "win     = 1024 # Choseen length of slicing window size\n",
        "d_model = 32  # Inner dimension of the model\n",
        "\n",
        "TransAppInstance = get_model_inst(m=m, win=win, dim_model=d_model, mode=\"pretraining\") # Pretraining mode of our TransApp model"
      ],
      "metadata": {
        "id": "CI5HtVapIeTX"
      },
      "execution_count": null,
      "outputs": []
    },
    {
      "cell_type": "code",
      "source": [
        "# data_pretraining = CER_get_data_pretraining(exo_variable=['hours_cos', 'hours_sin', 'days_cos', 'days_sin'])\n",
        "data_pretraining = COMSTOCK_get_data_pretraining(resolution=\"15min\")"
      ],
      "metadata": {
        "id": "9ToZraj3IeOa",
        "colab": {
          "base_uri": "https://localhost:8080/"
        },
        "outputId": "66806bed-0e06-41b9-f53d-c853d6a7c0c7"
      },
      "execution_count": null,
      "outputs": [
        {
          "output_type": "stream",
          "name": "stdout",
          "text": [
            "Loaded ComStock 15min data for pretraining: (41, 35040)\n",
            "Validating ComStock_15min_pretraining...\n",
            "Found 18248 NaN values, filling with median...\n",
            "Data validation complete. Shape: (41, 35040) -> (41, 35040)\n",
            "Applied entire curve normalization\n",
            "Pretraining data shape: (1394, 1, 1024)\n"
          ]
        }
      ]
    },
    {
      "cell_type": "code",
      "source": [
        "dict_params = {'lr': 1e-4, 'wd': 1e-4, 'batch_size': 16, 'epochs': 10}\n",
        "save_path = str(root) + '/tmp/TransAppPT' # Model save path\n",
        "\n",
        "pretraining_dataset = TSDataset(data_pretraining, scaler=True, scale_dim=[0])\n",
        "train_loader = torch.utils.data.DataLoader(pretraining_dataset, batch_size=dict_params['batch_size'], shuffle=True)\n",
        "\n",
        "GeomMask = GeometricMask(mean_length=24, masking_ratio=0.5, type_corrupt='zero', dim_masked=0) # Mask to corrupt inout time series\n",
        "\n",
        "model_pretrainer = self_pretrainer(TransAppInstance.to(\"cuda\"),\n",
        "                                   train_loader, valid_loader=None,\n",
        "                                   learning_rate=dict_params['lr'], weight_decay=dict_params['wd'],\n",
        "                                   name_scheduler='CosineAnnealingLR',\n",
        "                                   dict_params_scheduler={'T_max': dict_params['epochs'], 'eta_min': 1e-6},\n",
        "                                   warmup_duration=None,\n",
        "                                   criterion=MaskedMSELoss(type_loss='L1'), mask=GeomMask,\n",
        "                                   device=\"cuda\", all_gpu=False,\n",
        "                                   verbose=True, plotloss=True,\n",
        "                                   save_fig=False, path_fig=None,\n",
        "                                   save_only_core=False,\n",
        "                                   save_checkpoint=True, path_checkpoint=save_path)"
      ],
      "metadata": {
        "id": "RHpo_-H3IeME"
      },
      "execution_count": null,
      "outputs": []
    },
    {
      "cell_type": "code",
      "source": [
        "summary(TransAppInstance, input_size=(1, m, win), mode=\"train\", device='cuda') # show TransApp architecture with pretraining head"
      ],
      "metadata": {
        "colab": {
          "base_uri": "https://localhost:8080/"
        },
        "id": "dS21SABZIeQw",
        "outputId": "eb5a6493-a64b-4699-cd04-12c961a7e4da"
      },
      "execution_count": null,
      "outputs": [
        {
          "output_type": "execute_result",
          "data": {
            "text/plain": [
              "=========================================================================================================\n",
              "Layer (type:depth-idx)                                  Output Shape              Param #\n",
              "=========================================================================================================\n",
              "TransApp                                                [1, 1, 1024]              66\n",
              "├─Sequential: 1-1                                       [1, 1024, 32]             --\n",
              "│    └─DilatedBlock: 2-1                                [1, 32, 1024]             --\n",
              "│    │    └─Sequential: 3-1                             [1, 32, 1024]             15,904\n",
              "│    └─Transpose: 2-2                                   [1, 1024, 32]             --\n",
              "├─Sequential: 1-2                                       [1, 1024, 32]             --\n",
              "│    └─EncoderLayer: 2-3                                [1, 1024, 32]             --\n",
              "│    │    └─LayerNorm: 3-2                              [1, 1024, 32]             64\n",
              "│    │    └─AttentionLayer: 3-3                         [1, 1024, 32]             4,224\n",
              "│    │    └─LayerNorm: 3-4                              [1, 1024, 32]             64\n",
              "│    │    └─PositionWiseFeedForward: 3-5                [1, 1024, 32]             4,192\n",
              "│    │    └─Dropout: 3-6                                [1, 1024, 32]             --\n",
              "│    └─EncoderLayer: 2-4                                [1, 1024, 32]             --\n",
              "│    │    └─LayerNorm: 3-7                              [1, 1024, 32]             64\n",
              "│    │    └─AttentionLayer: 3-8                         [1, 1024, 32]             4,224\n",
              "│    │    └─LayerNorm: 3-9                              [1, 1024, 32]             64\n",
              "│    │    └─PositionWiseFeedForward: 3-10               [1, 1024, 32]             4,192\n",
              "│    │    └─Dropout: 3-11                               [1, 1024, 32]             --\n",
              "│    └─EncoderLayer: 2-5                                [1, 1024, 32]             --\n",
              "│    │    └─LayerNorm: 3-12                             [1, 1024, 32]             64\n",
              "│    │    └─AttentionLayer: 3-13                        [1, 1024, 32]             4,224\n",
              "│    │    └─LayerNorm: 3-14                             [1, 1024, 32]             64\n",
              "│    │    └─PositionWiseFeedForward: 3-15               [1, 1024, 32]             4,192\n",
              "│    │    └─Dropout: 3-16                               [1, 1024, 32]             --\n",
              "│    └─LayerNorm: 2-6                                   [1, 1024, 32]             64\n",
              "├─Sequential: 1-3                                       [1, 1024, 1]              --\n",
              "│    └─Linear: 2-7                                      [1, 1024, 1]              33\n",
              "│    └─Dropout: 2-8                                     [1, 1024, 1]              --\n",
              "=========================================================================================================\n",
              "Total params: 41,699\n",
              "Trainable params: 41,699\n",
              "Non-trainable params: 0\n",
              "Total mult-adds (Units.MEGABYTES): 16.05\n",
              "=========================================================================================================\n",
              "Input size (MB): 0.00\n",
              "Forward/backward pass size (MB): 9.45\n",
              "Params size (MB): 0.17\n",
              "Estimated Total Size (MB): 9.62\n",
              "========================================================================================================="
            ]
          },
          "metadata": {},
          "execution_count": 7
        }
      ]
    },
    {
      "cell_type": "code",
      "source": [
        "model_pretrainer.train(dict_params['epochs'])"
      ],
      "metadata": {
        "colab": {
          "base_uri": "https://localhost:8080/",
          "height": 1000
        },
        "id": "sdqXuzx6IeHI",
        "outputId": "129f87be-8b09-44f3-fd7f-762cf1e00be1"
      },
      "execution_count": null,
      "outputs": [
        {
          "output_type": "stream",
          "name": "stdout",
          "text": [
            "Verbose is True if : True\n",
            "Epoch [1/10]\n",
            "    Train loss : 0.894062\n",
            "Verbose is True if : True\n",
            "Epoch [2/10]\n",
            "    Train loss : 0.726168\n",
            "Verbose is True if : True\n",
            "Epoch [3/10]\n",
            "    Train loss : 0.680573\n",
            "Verbose is True if : True\n",
            "Epoch [4/10]\n",
            "    Train loss : 0.663443\n",
            "Verbose is True if : True\n",
            "Epoch [5/10]\n",
            "    Train loss : 0.643910\n",
            "Verbose is True if : True\n",
            "Epoch [6/10]\n",
            "    Train loss : 0.629853\n",
            "Verbose is True if : True\n",
            "Epoch [7/10]\n",
            "    Train loss : 0.615800\n",
            "Verbose is True if : True\n",
            "Epoch [8/10]\n",
            "    Train loss : 0.611415\n",
            "Verbose is True if : True\n",
            "Epoch [9/10]\n",
            "    Train loss : 0.608326\n",
            "Verbose is True if : True\n",
            "Epoch [10/10]\n",
            "    Train loss : 0.615296\n"
          ]
        },
        {
          "output_type": "display_data",
          "data": {
            "text/plain": [
              "<Figure size 640x480 with 1 Axes>"
            ],
            "image/png": "[encoded data removed]"
          },
          "metadata": {}
        }
      ]
    },
    {
      "cell_type": "markdown",
      "source": [
        "## Finetuning the pretrained model for Appliance Detection (i.e., a chosen classification case)"
      ],
      "metadata": {
        "id": "wiHFYOZU5Wce"
      }
    },
    {
      "cell_type": "code",
      "source": [
        "\n",
        "TransAppInstance.mode = \"classif\" # Change the mode of the TransApp architecture, i.e. use a classification head\n",
        "# OR\n",
        "#TransAppInstance = get_model_inst(m=m, win=win, dim_model=d_model, mode=\"classif\", path_select_core= str(root) + '/tmp/TransAppPT.pt') # Load previous pretrained instance\n",
        "\n",
        "summary(TransAppInstance, input_size=(1, m, win), mode=\"train\", device='cuda') # show TransApp architecture with classification head"
      ],
      "metadata": {
        "id": "5tm08UJJIeEg",
        "colab": {
          "base_uri": "https://localhost:8080/"
        },
        "outputId": "5f0b1602-55ea-4018-ec59-f794fd98e22e"
      },
      "execution_count": null,
      "outputs": [
        {
          "output_type": "execute_result",
          "data": {
            "text/plain": [
              "=========================================================================================================\n",
              "Layer (type:depth-idx)                                  Output Shape              Param #\n",
              "=========================================================================================================\n",
              "TransApp                                                [1, 2]                    33\n",
              "├─Sequential: 1-1                                       [1, 1024, 32]             --\n",
              "│    └─DilatedBlock: 2-1                                [1, 32, 1024]             --\n",
              "│    │    └─Sequential: 3-1                             [1, 32, 1024]             15,904\n",
              "│    └─Transpose: 2-2                                   [1, 1024, 32]             --\n",
              "├─Sequential: 1-2                                       [1, 1024, 32]             --\n",
              "│    └─EncoderLayer: 2-3                                [1, 1024, 32]             --\n",
              "│    │    └─LayerNorm: 3-2                              [1, 1024, 32]             64\n",
              "│    │    └─AttentionLayer: 3-3                         [1, 1024, 32]             4,224\n",
              "│    │    └─LayerNorm: 3-4                              [1, 1024, 32]             64\n",
              "│    │    └─PositionWiseFeedForward: 3-5                [1, 1024, 32]             4,192\n",
              "│    │    └─Dropout: 3-6                                [1, 1024, 32]             --\n",
              "│    └─EncoderLayer: 2-4                                [1, 1024, 32]             --\n",
              "│    │    └─LayerNorm: 3-7                              [1, 1024, 32]             64\n",
              "│    │    └─AttentionLayer: 3-8                         [1, 1024, 32]             4,224\n",
              "│    │    └─LayerNorm: 3-9                              [1, 1024, 32]             64\n",
              "│    │    └─PositionWiseFeedForward: 3-10               [1, 1024, 32]             4,192\n",
              "│    │    └─Dropout: 3-11                               [1, 1024, 32]             --\n",
              "│    └─EncoderLayer: 2-5                                [1, 1024, 32]             --\n",
              "│    │    └─LayerNorm: 3-12                             [1, 1024, 32]             64\n",
              "│    │    └─AttentionLayer: 3-13                        [1, 1024, 32]             4,224\n",
              "│    │    └─LayerNorm: 3-14                             [1, 1024, 32]             64\n",
              "│    │    └─PositionWiseFeedForward: 3-15               [1, 1024, 32]             4,192\n",
              "│    │    └─Dropout: 3-16                               [1, 1024, 32]             --\n",
              "│    └─LayerNorm: 2-6                                   [1, 1024, 32]             64\n",
              "├─Sequential: 1-3                                       [1, 2]                    --\n",
              "│    └─Transpose: 2-7                                   [1, 32, 1024]             --\n",
              "│    └─AdaptiveAvgPool1d: 2-8                           [1, 32, 1]                --\n",
              "│    └─Flatten: 2-9                                     [1, 32]                   --\n",
              "│    └─Linear: 2-10                                     [1, 2]                    66\n",
              "│    └─Dropout: 2-11                                    [1, 2]                    --\n",
              "=========================================================================================================\n",
              "Total params: 41,699\n",
              "Trainable params: 41,699\n",
              "Non-trainable params: 0\n",
              "Total mult-adds (Units.MEGABYTES): 16.05\n",
              "=========================================================================================================\n",
              "Input size (MB): 0.00\n",
              "Forward/backward pass size (MB): 9.44\n",
              "Params size (MB): 0.17\n",
              "Estimated Total Size (MB): 9.61\n",
              "========================================================================================================="
            ]
          },
          "metadata": {},
          "execution_count": 9
        }
      ]
    },
    {
      "cell_type": "code",
      "source": [
        "case = 'fans_case' # exemple of detecting cooker in consumption series\n",
        "\n",
        "# datas_tuple = CER_get_data_case('cooker_case', seed=0, exo_variable=['hours_cos', 'hours_sin', 'days_cos', 'days_sin'], win=win)\n",
        "datas_tuple = COMSTOCK_get_data_case('cooling_case', seed = 0 )"
      ],
      "metadata": {
        "id": "TupSbmiAIeBo",
        "colab": {
          "base_uri": "https://localhost:8080/"
        },
        "outputId": "9a1e4047-a1ad-48ed-af71-b334d723b4d2"
      },
      "execution_count": null,
      "outputs": [
        {
          "output_type": "stream",
          "name": "stdout",
          "text": [
            "Loaded ComStock 15min data: (41, 35040)\n",
            "Loaded cooling_case labels: (1000, 1)\n",
            "Merged data shape: (41, 35041)\n",
            "Class ratio: 0.389, Equalize classes: True\n",
            "Final shapes - Train: (535, 1, 1024), Valid: (238, 1, 1024), Test: (306, 1, 1024)\n"
          ]
        }
      ]
    },
    {
      "cell_type": "code",
      "source": [
        "\n",
        "\n",
        "dict_params = {'lr': 1e-4, 'wd': 1e-3, 'batch_size': 16, 'epochs': 10, 'p_es': 5, 'p_rlr': 3, 'n_warmup_epochs': 1}\n",
        "save_path = str(root) + '/tmp/TransAppPTFinetuned_Comstock'\n",
        "\n",
        "# Sliced data for training\n",
        "X_train = datas_tuple[0]\n",
        "y_train = datas_tuple[1]\n",
        "X_valid = datas_tuple[2]\n",
        "y_valid = datas_tuple[3]\n",
        "X_test  = datas_tuple[4]\n",
        "y_test  = datas_tuple[5]\n",
        "\n",
        "\n",
        "# Entire curves data for evaluate the model\n",
        "X_train_voter = datas_tuple[6]\n",
        "y_train_voter = datas_tuple[7]\n",
        "X_valid_voter = datas_tuple[8]\n",
        "y_valid_voter = datas_tuple[9]\n",
        "X_test_voter  = datas_tuple[10]\n",
        "y_test_voter  = datas_tuple[11]\n",
        "\n",
        "# Dataset\n",
        "train_dataset = TSDataset(X_train, y_train, scaler=True, scale_dim=[0])\n",
        "valid_dataset = TSDataset(X_valid, y_valid, scaler=True, scale_dim=[0])\n",
        "test_dataset  = TSDataset(X_test,  y_test,  scaler=True, scale_dim=[0])\n",
        "\n",
        "train_loader = torch.utils.data.DataLoader(train_dataset, batch_size=dict_params['batch_size'], shuffle=True)\n",
        "valid_loader = torch.utils.data.DataLoader(valid_dataset, batch_size=1, shuffle=True)\n",
        "\n",
        "# AD Framework trainer\n",
        "model_trainer = AD_Framework(TransAppInstance,\n",
        "                             train_loader=train_loader, valid_loader=valid_loader,\n",
        "                             learning_rate=dict_params['lr'], weight_decay=dict_params['wd'],\n",
        "                             criterion=nn.CrossEntropyLoss(),\n",
        "                             patience_es=dict_params['p_es'], patience_rlr=dict_params['p_rlr'],\n",
        "                             f_metrics=getmetrics(),\n",
        "                             n_warmup_epochs=dict_params['n_warmup_epochs'],\n",
        "                             scale_by_subseq_in_voter=True, scale_dim=[0],\n",
        "                             verbose=True, plotloss=True,\n",
        "                             save_fig=False, path_fig=None,\n",
        "                             device=\"cuda\", all_gpu=False,\n",
        "                             save_checkpoint=True, path_checkpoint=save_path)"
      ],
      "metadata": {
        "id": "y3Eb50aUId6m",
        "colab": {
          "base_uri": "https://localhost:8080/"
        },
        "outputId": "c42b3968-a3de-42d9-a1a0-2435109eac27"
      },
      "execution_count": null,
      "outputs": [
        {
          "output_type": "stream",
          "name": "stderr",
          "text": [
            "/usr/local/lib/python3.12/dist-packages/sklearn/utils/extmath.py:1101: RuntimeWarning: invalid value encountered in divide\n",
            "  updated_mean = (last_sum + new_sum) / updated_sample_count\n",
            "/usr/local/lib/python3.12/dist-packages/sklearn/utils/extmath.py:1106: RuntimeWarning: invalid value encountered in divide\n",
            "  T = new_sum / new_sample_count\n",
            "/usr/local/lib/python3.12/dist-packages/sklearn/utils/extmath.py:1126: RuntimeWarning: invalid value encountered in divide\n",
            "  new_unnormalized_variance -= correction**2 / new_sample_count\n"
          ]
        }
      ]
    },
    {
      "cell_type": "code",
      "source": [
        "model_trainer.train(dict_params['epochs'])"
      ],
      "metadata": {
        "colab": {
          "base_uri": "https://localhost:8080/",
          "height": 373
        },
        "id": "wPwqLrZm7gmZ",
        "outputId": "e5970c5a-1fdd-4690-a372-c6f7dfd632b0"
      },
      "execution_count": null,
      "outputs": [
        {
          "output_type": "stream",
          "name": "stdout",
          "text": [
            "************************************Verbose is true************************************\n",
            "Epoch [1/10]\n",
            "    Train loss : nan, Train acc : 44.49%\n",
            "    Valid  loss : nan, Valid  acc : 42.86%\n"
          ]
        },
        {
          "output_type": "error",
          "ename": "KeyboardInterrupt",
          "evalue": "",
          "traceback": [
            "\u001b[0;31m---------------------------------------------------------------------------\u001b[0m",
            "\u001b[0;31mKeyboardInterrupt\u001b[0m                         Traceback (most recent call last)",
            "\u001b[0;32m/tmp/ipython-input-2483263715.py\u001b[0m in \u001b[0;36m<cell line: 0>\u001b[0;34m()\u001b[0m\n\u001b[0;32m----> 1\u001b[0;31m \u001b[0mmodel_trainer\u001b[0m\u001b[0;34m.\u001b[0m\u001b[0mtrain\u001b[0m\u001b[0;34m(\u001b[0m\u001b[0mdict_params\u001b[0m\u001b[0;34m[\u001b[0m\u001b[0;34m'epochs'\u001b[0m\u001b[0;34m]\u001b[0m\u001b[0;34m)\u001b[0m\u001b[0;34m\u001b[0m\u001b[0;34m\u001b[0m\u001b[0m\n\u001b[0m",
            "\u001b[0;32m/content/TransApp/src/AD_Framework/Framework.py\u001b[0m in \u001b[0;36mtrain\u001b[0;34m(self, n_epochs)\u001b[0m\n\u001b[1;32m    460\u001b[0m         \u001b[0;32mfor\u001b[0m \u001b[0mepoch\u001b[0m \u001b[0;32min\u001b[0m \u001b[0mrange\u001b[0m\u001b[0;34m(\u001b[0m\u001b[0mn_epochs\u001b[0m\u001b[0;34m)\u001b[0m\u001b[0;34m:\u001b[0m\u001b[0;34m\u001b[0m\u001b[0;34m\u001b[0m\u001b[0m\n\u001b[1;32m    461\u001b[0m             \u001b[0;31m# =======================one epoch======================= #\u001b[0m\u001b[0;34m\u001b[0m\u001b[0;34m\u001b[0m\u001b[0m\n\u001b[0;32m--> 462\u001b[0;31m             \u001b[0mtrain_loss\u001b[0m\u001b[0;34m,\u001b[0m \u001b[0mtrain_accuracy\u001b[0m \u001b[0;34m=\u001b[0m \u001b[0mself\u001b[0m\u001b[0;34m.\u001b[0m\u001b[0m__train\u001b[0m\u001b[0;34m(\u001b[0m\u001b[0;34m)\u001b[0m\u001b[0;34m\u001b[0m\u001b[0;34m\u001b[0m\u001b[0m\n\u001b[0m\u001b[1;32m    463\u001b[0m             \u001b[0mself\u001b[0m\u001b[0;34m.\u001b[0m\u001b[0mloss_train_history\u001b[0m\u001b[0;34m.\u001b[0m\u001b[0mappend\u001b[0m\u001b[0;34m(\u001b[0m\u001b[0mtrain_loss\u001b[0m\u001b[0;34m)\u001b[0m\u001b[0;34m\u001b[0m\u001b[0;34m\u001b[0m\u001b[0m\n\u001b[1;32m    464\u001b[0m             \u001b[0mself\u001b[0m\u001b[0;34m.\u001b[0m\u001b[0maccuracy_train_history\u001b[0m\u001b[0;34m.\u001b[0m\u001b[0mappend\u001b[0m\u001b[0;34m(\u001b[0m\u001b[0mtrain_accuracy\u001b[0m\u001b[0;34m)\u001b[0m\u001b[0;34m\u001b[0m\u001b[0;34m\u001b[0m\u001b[0m\n",
            "\u001b[0;32m/content/TransApp/src/AD_Framework/Framework.py\u001b[0m in \u001b[0;36m__train\u001b[0;34m(self)\u001b[0m\n\u001b[1;32m    629\u001b[0m         \u001b[0mmean_accuracy_train\u001b[0m \u001b[0;34m=\u001b[0m \u001b[0;34m[\u001b[0m\u001b[0;34m]\u001b[0m\u001b[0;34m\u001b[0m\u001b[0;34m\u001b[0m\u001b[0m\n\u001b[1;32m    630\u001b[0m \u001b[0;34m\u001b[0m\u001b[0m\n\u001b[0;32m--> 631\u001b[0;31m         \u001b[0;32mfor\u001b[0m \u001b[0mts\u001b[0m\u001b[0;34m,\u001b[0m \u001b[0mlabels\u001b[0m \u001b[0;32min\u001b[0m \u001b[0mself\u001b[0m\u001b[0;34m.\u001b[0m\u001b[0mtrain_loader\u001b[0m\u001b[0;34m:\u001b[0m\u001b[0;34m\u001b[0m\u001b[0;34m\u001b[0m\u001b[0m\n\u001b[0m\u001b[1;32m    632\u001b[0m             \u001b[0mself\u001b[0m\u001b[0;34m.\u001b[0m\u001b[0mmodel\u001b[0m\u001b[0;34m.\u001b[0m\u001b[0mtrain\u001b[0m\u001b[0;34m(\u001b[0m\u001b[0;34m)\u001b[0m\u001b[0;34m\u001b[0m\u001b[0;34m\u001b[0m\u001b[0m\n\u001b[1;32m    633\u001b[0m             \u001b[0;31m# ===================variables=================== #\u001b[0m\u001b[0;34m\u001b[0m\u001b[0;34m\u001b[0m\u001b[0m\n",
            "\u001b[0;32m/usr/local/lib/python3.12/dist-packages/torch/utils/data/dataloader.py\u001b[0m in \u001b[0;36m__next__\u001b[0;34m(self)\u001b[0m\n\u001b[1;32m    728\u001b[0m \u001b[0;34m\u001b[0m\u001b[0m\n\u001b[1;32m    729\u001b[0m     \u001b[0;32mdef\u001b[0m \u001b[0m__next__\u001b[0m\u001b[0;34m(\u001b[0m\u001b[0mself\u001b[0m\u001b[0;34m)\u001b[0m \u001b[0;34m->\u001b[0m \u001b[0mAny\u001b[0m\u001b[0;34m:\u001b[0m\u001b[0;34m\u001b[0m\u001b[0;34m\u001b[0m\u001b[0m\n\u001b[0;32m--> 730\u001b[0;31m         \u001b[0;32mwith\u001b[0m \u001b[0mtorch\u001b[0m\u001b[0;34m.\u001b[0m\u001b[0mautograd\u001b[0m\u001b[0;34m.\u001b[0m\u001b[0mprofiler\u001b[0m\u001b[0;34m.\u001b[0m\u001b[0mrecord_function\u001b[0m\u001b[0;34m(\u001b[0m\u001b[0mself\u001b[0m\u001b[0;34m.\u001b[0m\u001b[0m_profile_name\u001b[0m\u001b[0;34m)\u001b[0m\u001b[0;34m:\u001b[0m\u001b[0;34m\u001b[0m\u001b[0;34m\u001b[0m\u001b[0m\n\u001b[0m\u001b[1;32m    731\u001b[0m             \u001b[0;32mif\u001b[0m \u001b[0mself\u001b[0m\u001b[0;34m.\u001b[0m\u001b[0m_sampler_iter\u001b[0m \u001b[0;32mis\u001b[0m \u001b[0;32mNone\u001b[0m\u001b[0;34m:\u001b[0m\u001b[0;34m\u001b[0m\u001b[0;34m\u001b[0m\u001b[0m\n\u001b[1;32m    732\u001b[0m                 \u001b[0;31m# TODO(https://github.com/pytorch/pytorch/issues/76750)\u001b[0m\u001b[0;34m\u001b[0m\u001b[0;34m\u001b[0m\u001b[0m\n",
            "\u001b[0;32m/usr/local/lib/python3.12/dist-packages/torch/autograd/profiler.py\u001b[0m in \u001b[0;36m__exit__\u001b[0;34m(self, exc_type, exc_value, traceback)\u001b[0m\n\u001b[1;32m    791\u001b[0m         \u001b[0;32mif\u001b[0m \u001b[0;32mnot\u001b[0m \u001b[0mtorch\u001b[0m\u001b[0;34m.\u001b[0m\u001b[0mjit\u001b[0m\u001b[0;34m.\u001b[0m\u001b[0mis_scripting\u001b[0m\u001b[0;34m(\u001b[0m\u001b[0;34m)\u001b[0m\u001b[0;34m:\u001b[0m\u001b[0;34m\u001b[0m\u001b[0;34m\u001b[0m\u001b[0m\n\u001b[1;32m    792\u001b[0m             \u001b[0;32mwith\u001b[0m \u001b[0mtorch\u001b[0m\u001b[0;34m.\u001b[0m\u001b[0m_C\u001b[0m\u001b[0;34m.\u001b[0m\u001b[0mDisableTorchFunctionSubclass\u001b[0m\u001b[0;34m(\u001b[0m\u001b[0;34m)\u001b[0m\u001b[0;34m:\u001b[0m\u001b[0;34m\u001b[0m\u001b[0;34m\u001b[0m\u001b[0m\n\u001b[0;32m--> 793\u001b[0;31m                 \u001b[0mtorch\u001b[0m\u001b[0;34m.\u001b[0m\u001b[0mops\u001b[0m\u001b[0;34m.\u001b[0m\u001b[0mprofiler\u001b[0m\u001b[0;34m.\u001b[0m\u001b[0m_record_function_exit\u001b[0m\u001b[0;34m.\u001b[0m\u001b[0m_RecordFunction\u001b[0m\u001b[0;34m(\u001b[0m\u001b[0mrecord\u001b[0m\u001b[0;34m)\u001b[0m\u001b[0;34m\u001b[0m\u001b[0;34m\u001b[0m\u001b[0m\n\u001b[0m\u001b[1;32m    794\u001b[0m         \u001b[0;32melse\u001b[0m\u001b[0;34m:\u001b[0m\u001b[0;34m\u001b[0m\u001b[0;34m\u001b[0m\u001b[0m\n\u001b[1;32m    795\u001b[0m             \u001b[0mtorch\u001b[0m\u001b[0;34m.\u001b[0m\u001b[0mops\u001b[0m\u001b[0;34m.\u001b[0m\u001b[0mprofiler\u001b[0m\u001b[0;34m.\u001b[0m\u001b[0m_record_function_exit\u001b[0m\u001b[0;34m(\u001b[0m\u001b[0mrecord\u001b[0m\u001b[0;34m)\u001b[0m\u001b[0;34m\u001b[0m\u001b[0;34m\u001b[0m\u001b[0m\n",
            "\u001b[0;32m/usr/local/lib/python3.12/dist-packages/torch/_ops.py\u001b[0m in \u001b[0;36m__call__\u001b[0;34m(self, *args, **kwargs)\u001b[0m\n\u001b[1;32m   1070\u001b[0m                     \u001b[0mself\u001b[0m\u001b[0;34m.\u001b[0m\u001b[0m_fallthrough_keys\u001b[0m\u001b[0;34m(\u001b[0m\u001b[0;34m)\u001b[0m\u001b[0;34m,\u001b[0m \u001b[0;34m*\u001b[0m\u001b[0margs\u001b[0m\u001b[0;34m,\u001b[0m \u001b[0;34m**\u001b[0m\u001b[0mkwargs\u001b[0m\u001b[0;34m\u001b[0m\u001b[0;34m\u001b[0m\u001b[0m\n\u001b[1;32m   1071\u001b[0m                 )\n\u001b[0;32m-> 1072\u001b[0;31m         \u001b[0;32mreturn\u001b[0m \u001b[0mself\u001b[0m\u001b[0;34m.\u001b[0m\u001b[0m_op\u001b[0m\u001b[0;34m(\u001b[0m\u001b[0;34m*\u001b[0m\u001b[0margs\u001b[0m\u001b[0;34m,\u001b[0m \u001b[0;34m**\u001b[0m\u001b[0mkwargs\u001b[0m\u001b[0;34m)\u001b[0m\u001b[0;34m\u001b[0m\u001b[0;34m\u001b[0m\u001b[0m\n\u001b[0m\u001b[1;32m   1073\u001b[0m \u001b[0;34m\u001b[0m\u001b[0m\n\u001b[1;32m   1074\u001b[0m     def _dispatch_in_python(\n",
            "\u001b[0;31mKeyboardInterrupt\u001b[0m: "
          ]
        }
      ]
    }
  ]
}