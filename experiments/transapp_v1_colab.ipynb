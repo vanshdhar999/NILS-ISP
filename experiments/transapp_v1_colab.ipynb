{
  "nbformat": 4,
  "nbformat_minor": 0,
  "metadata": {
    "colab": {
      "provenance": [],
      "gpuType": "T4"
    },
    "kernelspec": {
      "name": "python3",
      "display_name": "Python 3"
    },
    "language_info": {
      "name": "python"
    },
    "accelerator": "GPU"
  },
  "cells": [
    {
      "cell_type": "code",
      "execution_count": null,
      "metadata": {
        "colab": {
          "base_uri": "https://localhost:8080/"
        },
        "id": "pxJQlTlb1VZv",
        "outputId": "a98bdae7-976c-4513-b8cb-6eaa7c6a5765"
      },
      "outputs": [
        {
          "output_type": "stream",
          "name": "stdout",
          "text": [
            "Cloning into 'TransApp'...\n",
            "remote: Enumerating objects: 738, done.\u001b[K\n",
            "remote: Counting objects: 100% (326/326), done.\u001b[K\n",
            "remote: Compressing objects: 100% (176/176), done.\u001b[K\n",
            "remote: Total 738 (delta 147), reused 311 (delta 141), pack-reused 412 (from 1)\u001b[K\n",
            "Receiving objects: 100% (738/738), 506.04 MiB | 22.06 MiB/s, done.\n",
            "Resolving deltas: 100% (300/300), done.\n",
            "Updating files: 100% (144/144), done.\n"
          ]
        }
      ],
      "source": [
        "!git clone https://github.com/vanshdhar999/TransApp.git"
      ]
    },
    {
      "cell_type": "code",
      "source": [
        "# Change to the cloned repository directory\n",
        "import os\n",
        "import sys\n",
        "from pathlib import Path\n",
        "os.chdir('/content/TransApp')  # Replace with your actual repo name\n",
        "\n",
        "# Add the repo root to Python path\n",
        "root = Path(os.getcwd()).resolve()\n",
        "sys.path.append(str(root))"
      ],
      "metadata": {
        "id": "rlXagpGOIUZy"
      },
      "execution_count": null,
      "outputs": []
    },
    {
      "cell_type": "code",
      "source": [
        "!pip install torchinfo"
      ],
      "metadata": {
        "colab": {
          "base_uri": "https://localhost:8080/"
        },
        "id": "Sav4E6QqIi-0",
        "outputId": "74ace22e-f2ff-44ea-a311-404df9acdd9d"
      },
      "execution_count": null,
      "outputs": [
        {
          "output_type": "stream",
          "name": "stdout",
          "text": [
            "Collecting torchinfo\n",
            "  Downloading torchinfo-1.8.0-py3-none-any.whl.metadata (21 kB)\n",
            "Downloading torchinfo-1.8.0-py3-none-any.whl (23 kB)\n",
            "Installing collected packages: torchinfo\n",
            "Successfully installed torchinfo-1.8.0\n"
          ]
        }
      ]
    },
    {
      "cell_type": "code",
      "source": [
        "import os, sys\n",
        "import numpy as np\n",
        "import pandas as pd\n",
        "from pathlib import Path\n",
        "\n",
        "import torch\n",
        "import torch.nn as nn\n",
        "\n",
        "root = Path(os.getcwd()).resolve().parents[0]\n",
        "sys.path.append(str(root))\n",
        "from experiments.data_utils import *\n",
        "from src.TransAppModel.TransApp import *\n",
        "from src.AD_Framework.Framework import *\n",
        "from src.utils.losses import *\n",
        "from IPython.display import display, HTML\n",
        "display(HTML(\"<style>.container { width:80% !important; }</style>\"))\n",
        "\n",
        "from torch.utils.data import DataLoader, Dataset\n",
        "from torchinfo import summary"
      ],
      "metadata": {
        "id": "LEBuy9Gg1dcL",
        "colab": {
          "base_uri": "https://localhost:8080/",
          "height": 17
        },
        "outputId": "544c9288-b3e1-4342-b535-cbf58a62b2ab"
      },
      "execution_count": null,
      "outputs": [
        {
          "output_type": "display_data",
          "data": {
            "text/plain": [
              "<IPython.core.display.HTML object>"
            ],
            "text/html": [
              "<style>.container { width:80% !important; }</style>"
            ]
          },
          "metadata": {}
        }
      ]
    },
    {
      "cell_type": "code",
      "source": [
        "def get_model_inst(m, win, dim_model, mode=\"pretraining\", large_version=False, path_select_core=None):\n",
        "    \"\"\"\n",
        "    Description:\n",
        "        Get TransApp model instance\n",
        "\n",
        "    Parameters:\n",
        "        m: int - n channel of input time series\n",
        "        win: int - length of input subsequence (usefull for positional encoding, if any)\n",
        "        mode: str - 'pretraining' or 'classif' (type of head)\n",
        "        large_version: boolean - if true, use 5 encoder layers instead of 3\n",
        "        path_select_core: str - path to pretrained instance of TransApp\n",
        "    \"\"\"\n",
        "\n",
        "    TApp = TransApp(max_len=win, c_in=m,\n",
        "                    mode=mode,\n",
        "                    n_embed_blocks=1,\n",
        "                    encoding_type='noencoding',\n",
        "                    n_encoder_layers=5 if large_version else 3,\n",
        "                    kernel_size=5,\n",
        "                    d_model=dim_model, pffn_ratio=2, n_head=4,\n",
        "                    prenorm=True, norm=\"LayerNorm\",\n",
        "                    activation='gelu',\n",
        "                    store_att=False, attn_dp_rate=0.2, head_dp_rate=0., dp_rate=0.2,\n",
        "                    att_param={'attenc_mask_diag': True, 'attenc_mask_flag': False, 'learnable_scale_enc': False},\n",
        "                    c_reconstruct=1, apply_gap=True, nb_class=2)\n",
        "\n",
        "    if path_select_core is not None:\n",
        "        TApp.load_state_dict(torch.load(path_select_core)['model_state_dict'])\n",
        "\n",
        "    return TApp"
      ],
      "metadata": {
        "id": "j5N2y-NUIeVb"
      },
      "execution_count": null,
      "outputs": []
    },
    {
      "cell_type": "code",
      "source": [
        "m       = 5    # Number of channel of the input time series (i.e. consumption time series, hours encoded in sin/cos based , days encoded in sin/cos based)\n",
        "win     = 1024 # Choseen length of slicing window size\n",
        "d_model = 96   # Inner dimension of the model\n",
        "\n",
        "TransAppInstance = get_model_inst(m=m, win=win, dim_model=d_model, mode=\"pretraining\") # Pretraining mode of our TransApp model"
      ],
      "metadata": {
        "id": "CI5HtVapIeTX"
      },
      "execution_count": null,
      "outputs": []
    },
    {
      "cell_type": "code",
      "source": [
        "data_pretraining = CER_get_data_pretraining(exo_variable=['hours_cos', 'hours_sin', 'days_cos', 'days_sin'])"
      ],
      "metadata": {
        "id": "9ToZraj3IeOa"
      },
      "execution_count": null,
      "outputs": []
    },
    {
      "cell_type": "code",
      "source": [
        "summary(TransAppInstance, input_size=(1, m, win), mode=\"train\", device='cpu') # show TransApp architecture with pretraining head"
      ],
      "metadata": {
        "colab": {
          "base_uri": "https://localhost:8080/"
        },
        "id": "dS21SABZIeQw",
        "outputId": "e30fce5f-cf5d-4033-b9d6-08c6b6fd7046"
      },
      "execution_count": null,
      "outputs": [
        {
          "output_type": "execute_result",
          "data": {
            "text/plain": [
              "=========================================================================================================\n",
              "Layer (type:depth-idx)                                  Output Shape              Param #\n",
              "=========================================================================================================\n",
              "TransApp                                                [1, 1, 1024]              194\n",
              "├─Sequential: 1-1                                       [1, 1024, 96]             --\n",
              "│    └─DilatedBlock: 2-1                                [1, 96, 1024]             --\n",
              "│    │    └─Sequential: 3-1                             [1, 96, 1024]             142,368\n",
              "│    └─Transpose: 2-2                                   [1, 1024, 96]             --\n",
              "├─Sequential: 1-2                                       [1, 1024, 96]             --\n",
              "│    └─EncoderLayer: 2-3                                [1, 1024, 96]             --\n",
              "│    │    └─LayerNorm: 3-2                              [1, 1024, 96]             192\n",
              "│    │    └─AttentionLayer: 3-3                         [1, 1024, 96]             37,248\n",
              "│    │    └─LayerNorm: 3-4                              [1, 1024, 96]             192\n",
              "│    │    └─PositionWiseFeedForward: 3-5                [1, 1024, 96]             37,152\n",
              "│    │    └─Dropout: 3-6                                [1, 1024, 96]             --\n",
              "│    └─EncoderLayer: 2-4                                [1, 1024, 96]             --\n",
              "│    │    └─LayerNorm: 3-7                              [1, 1024, 96]             192\n",
              "│    │    └─AttentionLayer: 3-8                         [1, 1024, 96]             37,248\n",
              "│    │    └─LayerNorm: 3-9                              [1, 1024, 96]             192\n",
              "│    │    └─PositionWiseFeedForward: 3-10               [1, 1024, 96]             37,152\n",
              "│    │    └─Dropout: 3-11                               [1, 1024, 96]             --\n",
              "│    └─EncoderLayer: 2-5                                [1, 1024, 96]             --\n",
              "│    │    └─LayerNorm: 3-12                             [1, 1024, 96]             192\n",
              "│    │    └─AttentionLayer: 3-13                        [1, 1024, 96]             37,248\n",
              "│    │    └─LayerNorm: 3-14                             [1, 1024, 96]             192\n",
              "│    │    └─PositionWiseFeedForward: 3-15               [1, 1024, 96]             37,152\n",
              "│    │    └─Dropout: 3-16                               [1, 1024, 96]             --\n",
              "│    └─LayerNorm: 2-6                                   [1, 1024, 96]             192\n",
              "├─Sequential: 1-3                                       [1, 1024, 1]              --\n",
              "│    └─Linear: 2-7                                      [1, 1024, 1]              97\n",
              "│    └─Dropout: 2-8                                     [1, 1024, 1]              --\n",
              "=========================================================================================================\n",
              "Total params: 367,203\n",
              "Trainable params: 367,203\n",
              "Non-trainable params: 0\n",
              "Total mult-adds (Units.MEGABYTES): 145.22\n",
              "=========================================================================================================\n",
              "Input size (MB): 0.02\n",
              "Forward/backward pass size (MB): 29.11\n",
              "Params size (MB): 1.47\n",
              "Estimated Total Size (MB): 30.59\n",
              "========================================================================================================="
            ]
          },
          "metadata": {},
          "execution_count": 6
        }
      ]
    },
    {
      "cell_type": "code",
      "source": [
        "dict_params = {'lr': 1e-4, 'wd': 1e-4, 'batch_size': 16, 'epochs': 10}\n",
        "save_path = str(root) + '/tmp/TransAppPT' # Model save path\n",
        "\n",
        "pretraining_dataset = TSDataset(data_pretraining, scaler=True, scale_dim=[0])\n",
        "train_loader = torch.utils.data.DataLoader(pretraining_dataset, batch_size=dict_params['batch_size'], shuffle=True)\n",
        "\n",
        "GeomMask = GeometricMask(mean_length=24, masking_ratio=0.5, type_corrupt='zero', dim_masked=0) # Mask to corrupt inout time series\n",
        "\n",
        "model_pretrainer = self_pretrainer(TransAppInstance,\n",
        "                                   train_loader, valid_loader=None,\n",
        "                                   learning_rate=dict_params['lr'], weight_decay=dict_params['wd'],\n",
        "                                   name_scheduler='CosineAnnealingLR',\n",
        "                                   dict_params_scheduler={'T_max': dict_params['epochs'], 'eta_min': 1e-6},\n",
        "                                   warmup_duration=None,\n",
        "                                   criterion=MaskedMSELoss(type_loss='L1'), mask=GeomMask,\n",
        "                                   device=\"cuda\", all_gpu=False,\n",
        "                                   verbose=True, plotloss=True,\n",
        "                                   save_fig=False, path_fig=None,\n",
        "                                   save_only_core=False,\n",
        "                                   save_checkpoint=True, path_checkpoint=save_path)"
      ],
      "metadata": {
        "id": "RHpo_-H3IeME"
      },
      "execution_count": null,
      "outputs": []
    },
    {
      "cell_type": "code",
      "source": [
        "model_pretrainer.train(dict_params['epochs'])"
      ],
      "metadata": {
        "colab": {
          "base_uri": "https://localhost:8080/",
          "height": 796
        },
        "id": "sdqXuzx6IeHI",
        "outputId": "a4b2005e-9501-4efa-a731-618b9b65a515"
      },
      "execution_count": null,
      "outputs": [
        {
          "output_type": "stream",
          "name": "stdout",
          "text": [
            "Epoch [1/10]\n",
            "    Train loss : 0.485115\n",
            "Epoch [2/10]\n",
            "    Train loss : 0.460213\n",
            "Epoch [3/10]\n",
            "    Train loss : 0.455443\n",
            "Epoch [4/10]\n",
            "    Train loss : 0.453016\n",
            "Epoch [5/10]\n",
            "    Train loss : 0.451065\n",
            "Epoch [6/10]\n",
            "    Train loss : 0.449562\n",
            "Epoch [7/10]\n",
            "    Train loss : 0.448676\n",
            "Epoch [8/10]\n",
            "    Train loss : 0.447711\n",
            "Epoch [9/10]\n",
            "    Train loss : 0.447295\n",
            "Epoch [10/10]\n",
            "    Train loss : 0.447251\n"
          ]
        },
        {
          "output_type": "display_data",
          "data": {
            "text/plain": [
              "<Figure size 640x480 with 1 Axes>"
            ],
            "image/png": "[encoded data removed]"
          },
          "metadata": {}
        }
      ]
    },
    {
      "cell_type": "code",
      "source": [],
      "metadata": {
        "id": "5tm08UJJIeEg"
      },
      "execution_count": null,
      "outputs": []
    },
    {
      "cell_type": "code",
      "source": [],
      "metadata": {
        "id": "TupSbmiAIeBo"
      },
      "execution_count": null,
      "outputs": []
    },
    {
      "cell_type": "code",
      "source": [],
      "metadata": {
        "id": "y3Eb50aUId6m"
      },
      "execution_count": null,
      "outputs": []
    }
  ]
}